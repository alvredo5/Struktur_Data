{
  "nbformat": 4,
  "nbformat_minor": 0,
  "metadata": {
    "colab": {
      "provenance": [],
      "authorship_tag": "ABX9TyOqfnbIpAkBCEcGs9bwBq9E",
      "include_colab_link": true
    },
    "kernelspec": {
      "name": "python3",
      "display_name": "Python 3"
    },
    "language_info": {
      "name": "python"
    }
  },
  "cells": [
    {
      "cell_type": "markdown",
      "metadata": {
        "id": "view-in-github",
        "colab_type": "text"
      },
      "source": [
        "<a href=\"https://colab.research.google.com/github/alvredo5/struktur_data/blob/main/Sort1_G231220071.ipynb\" target=\"_parent\"><img src=\"https://colab.research.google.com/assets/colab-badge.svg\" alt=\"Open In Colab\"/></a>"
      ]
    },
    {
      "cell_type": "code",
      "execution_count": 2,
      "metadata": {
        "colab": {
          "base_uri": "https://localhost:8080/"
        },
        "id": "Nk1RB8xYjTSg",
        "outputId": "7274698b-8b1a-420a-8c2a-26025bbaf53c"
      },
      "outputs": [
        {
          "output_type": "stream",
          "name": "stdout",
          "text": [
            "Susunan setelah diurutkan:\n",
            "11 12 22 25 34 64 90 "
          ]
        }
      ],
      "source": [
        "def sortNumber(arr): # Mendefinisikan \"sortNumber\" sebagai fungsi\n",
        "    x = len(arr)  # Menghitung panjang atau jumlah elemen dalam array arr dan menyimpan nilai tersebut dalam variabel x\n",
        "    swapped = False  # Inisialisasi variabel swapped sebagai False, menandakan tidak ada pertukaran dilakukan\n",
        "\n",
        "    for y in range(x - 1):  # Bentuk perulangan yang dilakukan sebanyak panjang array - 1 (kali)\n",
        "        for z in range(0, x - y - 1):  # adalah sebuah perulangan yang akan mengulangi blok kode di dalamnya sebanyak x(len(arr)) - y(range(x-1)) - 1 (kali)\n",
        "                                        # di mulai dari nilai 0 sampai x - y - 1\n",
        "            if arr[z] > arr[z + 1]:  # Jika nilai data saat ini lebih besar dari nilai data berikutnya\n",
        "                swapped = True  # Set variabel swapped menjadi True karena terjadi pertukaran\n",
        "                arr[z], arr[z + 1] = arr[z + 1], arr[z]  # pertukaran nilai data dilakukan\n",
        "\n",
        "        if not swapped:  # Jika tidak ada pertukaran dilakukan pada iterasi tertentu (semua sudah urut)\n",
        "            break  # Keluar dari perulangan, karena array sudah terurut\n",
        "\n",
        "# Kode pengujian di bawah ini\n",
        "arr = [64, 34, 25, 12, 22, 11, 90]  # NIlia Array yang akan diurutkan\n",
        "\n",
        "sortNumber(arr)  # Memanggil fungsi sortNumber untuk mengurutkan array\n",
        "\n",
        "print(\"Susunan setelah diurutkan:\")\n",
        "for h in range(len(arr)):  # Perulangan untuk mencetak array yang telah diurutkan\n",
        "    print(\"%d\" % arr[h], end=\" \")  # Mencetak array yang telah di urutkan dengan spasi di antaranya"
      ]
    },
    {
      "cell_type": "code",
      "source": [
        "import sys\n",
        "\n",
        "H = [64, 25, 12, 22, 11]  # Menginisialisasi array yang akan diurutkan kedalam variable H\n",
        "\n",
        "for z in range(len(H)):  # Loop untuk iterasi sepanjang panjang array H\n",
        "    min_idx = z  # Menginisialisasi indeks minimum sebagai indeks saat ini\n",
        "\n",
        "    for x in range(z + 1, len(H)):  # Loop untuk mencari nilai minimum dari indeks selanjutnya\n",
        "        if H[min_idx] > H[x]:  # Jika nilai data minimum saat ini lebih besar dari data nilai pada indeks berikutnya\n",
        "            min_idx = x  # Perbarui indeks minimum menjadi indeks yang lebih kecil\n",
        "\n",
        "    # Setelah selesai mencari nilai minimum pada iterasi tertentu,\n",
        "    # lakukan pertukaran nilai antara elemen pada indeks z dengan nilai minimum yang ditemukan\n",
        "    H[z], H[min_idx] = H[min_idx], H[z]\n",
        "\n",
        "print(\"Susunan setelah diurutkan:\")  # Cetak pesan bahwa array telah diurutkan\n",
        "\n",
        "for z in range(len(H)):  # Loop untuk mencetak setiap elemen array yang telah diurutkan\n",
        "    print(\"%d\" % H[z], end=\" \")  # Mencetak array yang telah di urutkan dengan spasi di antaranya"
      ],
      "metadata": {
        "colab": {
          "base_uri": "https://localhost:8080/"
        },
        "id": "ZM5XytAulL73",
        "outputId": "dd737350-8b1f-4919-eb0a-e1862c418d6b"
      },
      "execution_count": 4,
      "outputs": [
        {
          "output_type": "stream",
          "name": "stdout",
          "text": [
            "Susunan setelah diurutkan:\n",
            "11 12 22 25 64 "
          ]
        }
      ]
    },
    {
      "cell_type": "code",
      "source": [
        "def penyisipanSort(arr):\n",
        "    for m in range(1, len(arr)):  # Loop untuk iterasi melalui elemen array, dimulai dari indeks kedua\n",
        "        key = arr[m]  # Menyimpan nilai elemen saat ini sebagai 'key'\n",
        "        n = m - 1  # Inisialisasi indeks sebelumnya dari elemen saat ini\n",
        "\n",
        "        while n >= 0 and key < arr[n]:  # Loop untuk memindahkan elemen yang lebih besar dari key ke posisi depannya\n",
        "            arr[n + 1] = arr[n]  # Geser elemen ke posisi depannya\n",
        "            n -= 1  # Kurangi indeks n\n",
        "\n",
        "        arr[n + 1] = key  # Memasukkan 'key' ke posisi yang sesuai setelah iterasi selesai\n",
        "\n",
        "# Kode pengujian di bawah ini\n",
        "arr = [12, 11, 13, 5, 6]  # Array yang akan diurutkan menggunakan insertion sort\n",
        "penyisipanSort(arr)  # Memanggil fungsi penyisipanSort untuk mengurutkan array\n",
        "\n",
        "for m in range(len(arr)):  # Loop untuk mencetak setiap elemen array yang telah diurutkan\n",
        "    print(\"%d\" % arr[m])  # Cetak setiap elemen array dalam baris terpisah"
      ],
      "metadata": {
        "colab": {
          "base_uri": "https://localhost:8080/"
        },
        "id": "bnN9czamlQoI",
        "outputId": "d779ed09-9b93-43c5-bc32-9fa80a6a01fc"
      },
      "execution_count": 5,
      "outputs": [
        {
          "output_type": "stream",
          "name": "stdout",
          "text": [
            "5\n",
            "6\n",
            "11\n",
            "12\n",
            "13\n"
          ]
        }
      ]
    }
  ]
}