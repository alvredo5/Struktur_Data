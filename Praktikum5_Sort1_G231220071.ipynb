{
  "nbformat": 4,
  "nbformat_minor": 0,
  "metadata": {
    "colab": {
      "provenance": [],
      "authorship_tag": "ABX9TyMeVluePx8uY5a4xu6MTKgP",
      "include_colab_link": true
    },
    "kernelspec": {
      "name": "python3",
      "display_name": "Python 3"
    },
    "language_info": {
      "name": "python"
    }
  },
  "cells": [
    {
      "cell_type": "markdown",
      "metadata": {
        "id": "view-in-github",
        "colab_type": "text"
      },
      "source": [
        "<a href=\"https://colab.research.google.com/github/alvredo5/struktur_data/blob/main/Praktikum5_Sort1_G231220071.ipynb\" target=\"_parent\"><img src=\"https://colab.research.google.com/assets/colab-badge.svg\" alt=\"Open In Colab\"/></a>"
      ]
    },
    {
      "cell_type": "code",
      "source": [
        "def bubbleSort(arr):\n",
        "  n = len(arr)\n",
        "  swapped = False\n",
        "\n",
        "  for i in range(n-1):\n",
        "    for j in range(0, n-i-1):\n",
        "      if arr[j] > arr[j + 1]:\n",
        "        swapped = True\n",
        "        arr[j], arr[j + 1] = arr[j + 1], arr[j]\n",
        "    if not swapped:\n",
        "      break\n",
        "\n",
        "\n",
        "arr = [64, 34, 25, 12, 22, 11, 90]\n",
        "\n",
        "bubbleSort(arr)\n",
        "\n",
        "print(\"Sorted array is:\")\n",
        "for i in range(len(arr)):\n",
        "  print(\"%d\" % arr[i], end=\" \")\n"
      ],
      "metadata": {
        "colab": {
          "base_uri": "https://localhost:8080/"
        },
        "id": "mDXELuuRxYBI",
        "outputId": "7cbf069b-0b48-4519-848c-4dbe513f4855"
      },
      "execution_count": 1,
      "outputs": [
        {
          "output_type": "stream",
          "name": "stdout",
          "text": [
            "Sorted array is:\n",
            "11 12 22 25 34 64 90 "
          ]
        }
      ]
    },
    {
      "cell_type": "code",
      "source": [
        "import sys\n",
        "\n",
        "A = [64, 25, 12, 22, 11]\n",
        "\n",
        "for i in range(len(A)):\n",
        "    min_idx = i\n",
        "\n",
        "    for j in range(i+1, len(A)):\n",
        "        if A[min_idx] > A[j]:\n",
        "            min_idx = j\n",
        "\n",
        "\n",
        "    A[i], A[min_idx] = A[min_idx], A[i]\n",
        "\n",
        "print(\"Sorted array\")\n",
        "\n",
        "for i in range(len(A)):\n",
        "    print(\"%d\" % A[i], end=\" \")\n"
      ],
      "metadata": {
        "colab": {
          "base_uri": "https://localhost:8080/"
        },
        "id": "t4EBtzZqx3fW",
        "outputId": "27c47dff-74e6-4d86-8eae-1a1e200c52ab"
      },
      "execution_count": 2,
      "outputs": [
        {
          "output_type": "stream",
          "name": "stdout",
          "text": [
            "Sorted array\n",
            "11 12 22 25 64 "
          ]
        }
      ]
    },
    {
      "cell_type": "code",
      "source": [
        "def insertionSort(arr):\n",
        "  for i in range(1, len(arr)):\n",
        "    key = arr[i]\n",
        "    j = i - 1\n",
        "\n",
        "  while j >= 0 and key < arr[j]:\n",
        "   arr[j + 1] = arr[j]\n",
        "   j -= 1\n",
        "  arr[j + 1] =\n",
        "\n",
        "\n",
        "arr = [12, 11, 13, 5, 6]\n",
        "insertionSort(arr)\n",
        "\n",
        "for i in range(len(arr)):\n",
        " print(\"%d\" % arr[i])\n"
      ],
      "metadata": {
        "colab": {
          "base_uri": "https://localhost:8080/"
        },
        "id": "OJgUkVYIyVqw",
        "outputId": "246e3394-210c-4653-fbc6-2899ee91d90d"
      },
      "execution_count": 4,
      "outputs": [
        {
          "output_type": "stream",
          "name": "stdout",
          "text": [
            "12\n",
            "11\n",
            "13\n",
            "5\n",
            "6\n"
          ]
        }
      ]
    }
  ]
}