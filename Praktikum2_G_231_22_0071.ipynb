{
  "nbformat": 4,
  "nbformat_minor": 0,
  "metadata": {
    "colab": {
      "provenance": [],
      "authorship_tag": "ABX9TyODx3HWWWOyyur1ZHYAtYhS",
      "include_colab_link": true
    },
    "kernelspec": {
      "name": "python3",
      "display_name": "Python 3"
    },
    "language_info": {
      "name": "python"
    }
  },
  "cells": [
    {
      "cell_type": "markdown",
      "metadata": {
        "id": "view-in-github",
        "colab_type": "text"
      },
      "source": [
        "<a href=\"https://colab.research.google.com/github/alvredo5/struktur_data/blob/main/Praktikum2_G_231_22_0071.ipynb\" target=\"_parent\"><img src=\"https://colab.research.google.com/assets/colab-badge.svg\" alt=\"Open In Colab\"/></a>"
      ]
    },
    {
      "cell_type": "code",
      "execution_count": null,
      "metadata": {
        "colab": {
          "base_uri": "https://localhost:8080/"
        },
        "id": "dgqv3qXmH_Yb",
        "outputId": "cb6ee6df-4448-4e8a-f846-4fa860b240cd"
      },
      "outputs": [
        {
          "output_type": "stream",
          "name": "stdout",
          "text": [
            "[1, 9, 2, 8, 5, 6, 3]\n",
            "[1, 2, 9, 8, 5, 6, 3]\n",
            "[1, 2, 3, 8, 5, 6, 9]\n",
            "[1, 2, 3, 5, 8, 6, 9]\n",
            "[1, 2, 3, 5, 6, 8, 9]\n",
            "[1, 2, 3, 5, 6, 8, 9]\n",
            "[1, 2, 3, 5, 6, 8, 9]\n"
          ]
        }
      ],
      "source": [
        "def UrutanNumber(alist):\n",
        "  for urutan in range(0,len(alist)-1):\n",
        "    posisi = urutan\n",
        "    for lokasi in range(urutan+1,len(alist)):\n",
        "      if alist[lokasi]<alist[posisi]:\n",
        "        posisi = lokasi\n",
        "\n",
        "    tems = alist[urutan]\n",
        "    alist[urutan] = alist[posisi]\n",
        "    alist[posisi] = tems\n",
        "    print(alist)\n",
        "\n",
        "number = [9,1,2,8,5,6,3]\n",
        "UrutanNumber(number)\n",
        "print(number)"
      ]
    },
    {
      "cell_type": "code",
      "source": [
        "#coding Sederhana tuple\n",
        "my_tuple = ([2,3],[4])\n",
        "\n",
        "my_tuple[1].append(4)\n",
        "\n",
        "print(my_tuple)"
      ],
      "metadata": {
        "colab": {
          "base_uri": "https://localhost:8080/"
        },
        "id": "jZ64tzijZVpK",
        "outputId": "8eb96620-ee45-4c4c-dbcb-7d6fd380dfc7"
      },
      "execution_count": 1,
      "outputs": [
        {
          "output_type": "stream",
          "name": "stdout",
          "text": [
            "([2, 3], [4, 4])\n"
          ]
        }
      ]
    },
    {
      "cell_type": "code",
      "source": [
        "#Implementasi tuple\n",
        "\n",
        "#akses nilai pada tuple\n",
        "hewan = ('Singa', 'Rusa', 'Kambing', 'Kuda')\n",
        "warna = ('hitam', 'keemasan', 'biru', 'putih salju')\n",
        "\n",
        "print(\"Peliharaan saya adalah \", hewan[1], warna[2], \"\\n\")\n",
        "\n",
        "#update nilai pada tuple\n",
        "var = hewan + warna\n",
        "print(var, \"\\n\")\n",
        "\n",
        "#hapus nilai pada tuple\n",
        "hari = ('senin', 'selasa', 'rabu', 'kamis')\n",
        "print(hari, \"\\n\")\n",
        "\n",
        "del hari\n",
        "\n",
        "hari = ('merah', 'hijau', 'hitam')\n",
        "print(\"Setelah menghapus tuple : \", hari)"
      ],
      "metadata": {
        "colab": {
          "base_uri": "https://localhost:8080/"
        },
        "id": "PoKqygMrFHGS",
        "outputId": "125f1e51-1672-47af-af45-35e04b410241"
      },
      "execution_count": 14,
      "outputs": [
        {
          "output_type": "stream",
          "name": "stdout",
          "text": [
            "Peliharaan saya adalah  Rusa biru \n",
            "\n",
            "('Singa', 'Rusa', 'Kambing', 'Kuda', 'hitam', 'keemasan', 'biru', 'putih salju') \n",
            "\n",
            "('senin', 'selasa', 'rabu', 'kamis') \n",
            "\n",
            "Setelah menghapus tuple :  ('merah', 'hijau', 'hitam')\n"
          ]
        }
      ]
    },
    {
      "cell_type": "code",
      "source": [
        "#Implementasi Dictonary\n",
        "\n",
        "#akses nilai pada dictonary\n",
        "dict = {'fruit': 'Semangka', 'price': '20000 per biji', 'weight': '2kg'}\n",
        "print(dict)"
      ],
      "metadata": {
        "colab": {
          "base_uri": "https://localhost:8080/"
        },
        "id": "cdeaVrYWUrfO",
        "outputId": "695f1a58-15a1-4b81-cfcc-5d600aa316dc"
      },
      "execution_count": 2,
      "outputs": [
        {
          "output_type": "stream",
          "name": "stdout",
          "text": [
            "{'fruit': 'Semangka', 'price': '20000 per biji', 'weight': '2kg'}\n"
          ]
        }
      ]
    },
    {
      "cell_type": "code",
      "source": [
        "p1 = {'xp': 30452, 'level': 1}\n",
        "p2 = {'xp': 2719, 'level': 2}\n",
        "p3 = {'xp': 0}\n",
        "player_db = [p1, p2, p3]\n",
        "\n",
        "for p in player_db:\n",
        "  lvl = p.get('level', 0)\n",
        "  print(f'Level {lvl}')"
      ],
      "metadata": {
        "colab": {
          "base_uri": "https://localhost:8080/"
        },
        "id": "cNRA-J-Vcsyp",
        "outputId": "0be52cd8-143d-4fc8-e8de-22058b44945f"
      },
      "execution_count": 3,
      "outputs": [
        {
          "output_type": "stream",
          "name": "stdout",
          "text": [
            "Level 1\n",
            "Level 2\n",
            "Level 0\n"
          ]
        }
      ]
    }
  ]
}