{
  "nbformat": 4,
  "nbformat_minor": 0,
  "metadata": {
    "colab": {
      "provenance": [],
      "authorship_tag": "ABX9TyN6AkjBYqPl9nhCzXqNihD7",
      "include_colab_link": true
    },
    "kernelspec": {
      "name": "python3",
      "display_name": "Python 3"
    },
    "language_info": {
      "name": "python"
    }
  },
  "cells": [
    {
      "cell_type": "markdown",
      "metadata": {
        "id": "view-in-github",
        "colab_type": "text"
      },
      "source": [
        "<a href=\"https://colab.research.google.com/github/alvredo5/struktur_data/blob/main/Praktikum7_Preorder_G231_22_0071.ipynb\" target=\"_parent\"><img src=\"https://colab.research.google.com/assets/colab-badge.svg\" alt=\"Open In Colab\"/></a>"
      ]
    },
    {
      "cell_type": "code",
      "execution_count": null,
      "metadata": {
        "id": "Ki7GuJjM180H",
        "colab": {
          "base_uri": "https://localhost:8080/"
        },
        "outputId": "60a86460-4afa-4c88-af9e-cc935d1de46b"
      },
      "outputs": [
        {
          "output_type": "stream",
          "name": "stdout",
          "text": [
            "Preorder travelsal of binary tree is\n",
            "1\n",
            "2\n",
            "4\n",
            "5\n",
            "3\n"
          ]
        }
      ],
      "source": [
        "# Preorder Binary Tree\n",
        "\n",
        "class Node:\n",
        "  def __init__(self, key):\n",
        "    self.left = None\n",
        "    self.right = None\n",
        "    self.val = key\n",
        "\n",
        "# A function to do preorder tree traversal\n",
        "def  printPreorder(root):\n",
        "\n",
        "  if root:\n",
        "\n",
        "    # First print the data of node\n",
        "    print(root.val),\n",
        "\n",
        "    # then recur on left child\n",
        "    printPreorder(root.left)\n",
        "\n",
        "    # Finally recur on right child\n",
        "    printPreorder(root.right)\n",
        "\n",
        "# Driver code\n",
        "if __name__ == \"__main__\":\n",
        "  root = Node(1)\n",
        "  root.left = Node(2)\n",
        "  root.right = Node(3)\n",
        "  root.left.left = Node(4)\n",
        "  root.left.right = Node(5)\n",
        "\n",
        "# Function call\n",
        "print (\"Preorder travelsal of binary tree is\")\n",
        "printPreorder(root)"
      ]
    }
  ]
}