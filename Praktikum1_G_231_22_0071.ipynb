{
  "nbformat": 4,
  "nbformat_minor": 0,
  "metadata": {
    "colab": {
      "provenance": [],
      "authorship_tag": "ABX9TyM2lWnUyBvYujgkk4CkW5Vs",
      "include_colab_link": true
    },
    "kernelspec": {
      "name": "python3",
      "display_name": "Python 3"
    },
    "language_info": {
      "name": "python"
    }
  },
  "cells": [
    {
      "cell_type": "markdown",
      "metadata": {
        "id": "view-in-github",
        "colab_type": "text"
      },
      "source": [
        "<a href=\"https://colab.research.google.com/github/alvredo5/struktur_data/blob/main/Praktikum1_G_231_22_0071.ipynb\" target=\"_parent\"><img src=\"https://colab.research.google.com/assets/colab-badge.svg\" alt=\"Open In Colab\"/></a>"
      ]
    },
    {
      "cell_type": "code",
      "execution_count": null,
      "metadata": {
        "colab": {
          "base_uri": "https://localhost:8080/"
        },
        "id": "yw6spTqVHPbf",
        "outputId": "11b9f164-c2d6-40c5-f8ae-8d77627bb86a"
      },
      "outputs": [
        {
          "output_type": "stream",
          "name": "stdout",
          "text": [
            "isi teman_ku index ke-3 adalah: riski\n",
            "Semua teman: ada 5 orang\n",
            "satrio\n",
            "wahyu\n",
            "hakim\n",
            "riski\n",
            "kiki\n"
          ]
        }
      ],
      "source": [
        "teman_ku = [\"satrio\", \"wahyu\", \"Rizal\", \"riski\", \"kiki\"]\n",
        "\n",
        "teman_ku[2] = \"hakim\"\n",
        "\n",
        "print(\"isi teman_ku index ke-3 adalah: {}\".format(teman_ku[3]))\n",
        "\n",
        "print(\"Semua teman: ada {} orang\".format(len(teman_ku)) )\n",
        "for friend in teman_ku:\n",
        "  print(friend)"
      ]
    },
    {
      "cell_type": "code",
      "source": [
        "#deklarasi list\n",
        "list_nilai = [4,6,3,7,2,9,1,5,16,6,22,4,9,8,6]\n",
        "\n",
        "#tampilkan list\n",
        "print(\"List Nilai : \\n\",list_nilai)\n",
        "\n",
        "#menggunakan len\n",
        "print(\"\\nJumlah Index list nilai (len) : \\n\", len(list_nilai))\n",
        "\n",
        "#mengguanakan count\n",
        "print(\"\\nJumlah nilai 5 Dalam List(count) : \\n\", list_nilai.count(5))\n",
        "\n",
        "#menggunakan append\n",
        "print(\"\\nMenambah element dalam list (append) :\")\n",
        "list_nilai.append(12)\n",
        "list_nilai.append(10)\n",
        "print(\"List Nilai : \",list_nilai)\n",
        "\n",
        "#menggunakan index\n",
        "print(\"\\nIndex ke 8 (index) : \\n\",list_nilai.index(8))\n",
        "\n",
        "#mengguanakan insert\n",
        "list_nilai.insert(1,12)\n",
        "print(\"\\nTambah Nilai list (insert): \\n\", list_nilai)\n",
        "\n",
        "#mengguanakan pop\n",
        "list_nilai.pop(8)\n",
        "print(\"\\nList Nilai (pop): \\n\", list_nilai)\n",
        "\n",
        "#mengguanakan remove\n",
        "list_nilai.remove(2)\n",
        "list_nilai.remove(3)\n",
        "print(\"\\nList Nilai (remove): \\n\", list_nilai)\n",
        "\n",
        "#menggunakan Extend\n",
        "list_nilai2 =[4,3,8,7]\n",
        "list_nilai.extend(list_nilai2)\n",
        "print(\"\\nList Nilai (extend): \\n\", list_nilai)\n",
        "\n",
        "#menggunakan reverse\n",
        "list_nilai.reverse()\n",
        "print(\"\\nList Nilai (reverse): \\n\", list_nilai)\n",
        "\n",
        "#menggunakan sort\n",
        "list_nilai.sort()\n",
        "print(\"\\nList Nilai (sort) = \\n\", list_nilai)\n",
        "\n",
        "#menggunakan MAX\n",
        "print(\"\\nNilai Terbanyak (max): \\n\", max(list_nilai))\n",
        "\n",
        "#menggunakan MIN\n",
        "print(\"\\nNilai Terendah (min): \\n\", min(list_nilai))\n",
        "\n",
        "#menggunakan sum\n",
        "print(\"Total Penjumlahan nilai dari list_nilai \\n\", sum(list_nilai))"
      ],
      "metadata": {
        "colab": {
          "base_uri": "https://localhost:8080/"
        },
        "id": "a8muM7By2tRo",
        "outputId": "1b0d4d27-8b0c-47f7-f41b-9eeabb66f3a5"
      },
      "execution_count": 35,
      "outputs": [
        {
          "output_type": "stream",
          "name": "stdout",
          "text": [
            "List Nilai : \n",
            " [4, 6, 3, 7, 2, 9, 1, 5, 16, 6, 22, 4, 9, 8, 6]\n",
            "\n",
            "Jumlah Index list nilai (len) : \n",
            " 15\n",
            "\n",
            "Jumlah nilai 5 Dalam List(count) : \n",
            " 1\n",
            "\n",
            "Menambah element dalam list (append) :\n",
            "List Nilai :  [4, 6, 3, 7, 2, 9, 1, 5, 16, 6, 22, 4, 9, 8, 6, 12, 10]\n",
            "\n",
            "Index ke 8 (index) : \n",
            " 13\n",
            "\n",
            "Tambah Nilai list (insert): \n",
            " [4, 12, 6, 3, 7, 2, 9, 1, 5, 16, 6, 22, 4, 9, 8, 6, 12, 10]\n",
            "\n",
            "List Nilai (pop): \n",
            " [4, 12, 6, 3, 7, 2, 9, 1, 16, 6, 22, 4, 9, 8, 6, 12, 10]\n",
            "\n",
            "List Nilai (remove): \n",
            " [4, 12, 6, 7, 9, 1, 16, 6, 22, 4, 9, 8, 6, 12, 10]\n",
            "\n",
            "List Nilai (extend): \n",
            " [4, 12, 6, 7, 9, 1, 16, 6, 22, 4, 9, 8, 6, 12, 10, 4, 3, 8, 7]\n",
            "\n",
            "List Nilai (reverse): \n",
            " [7, 8, 3, 4, 10, 12, 6, 8, 9, 4, 22, 6, 16, 1, 9, 7, 6, 12, 4]\n",
            "\n",
            "List Nilai (sort) = \n",
            " [1, 3, 4, 4, 4, 6, 6, 6, 7, 7, 8, 8, 9, 9, 10, 12, 12, 16, 22]\n",
            "\n",
            "Nilai Terbanyak (max): \n",
            " 22\n",
            "\n",
            "Nilai Terendah (min): \n",
            " 1\n",
            "Total Penjumlahan nilai dari list_nilai \n",
            " 154\n"
          ]
        }
      ]
    }
  ]
}