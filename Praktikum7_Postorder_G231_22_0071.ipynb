{
  "nbformat": 4,
  "nbformat_minor": 0,
  "metadata": {
    "colab": {
      "provenance": [],
      "authorship_tag": "ABX9TyPNL4GBI4dhFbtAGFyV9a3K",
      "include_colab_link": true
    },
    "kernelspec": {
      "name": "python3",
      "display_name": "Python 3"
    },
    "language_info": {
      "name": "python"
    }
  },
  "cells": [
    {
      "cell_type": "markdown",
      "metadata": {
        "id": "view-in-github",
        "colab_type": "text"
      },
      "source": [
        "<a href=\"https://colab.research.google.com/github/alvredo5/struktur_data/blob/main/Praktikum7_Postorder_G231_22_0071.ipynb\" target=\"_parent\"><img src=\"https://colab.research.google.com/assets/colab-badge.svg\" alt=\"Open In Colab\"/></a>"
      ]
    },
    {
      "cell_type": "code",
      "execution_count": null,
      "metadata": {
        "id": "Ki7GuJjM180H",
        "colab": {
          "base_uri": "https://localhost:8080/"
        },
        "outputId": "220170d3-7bbe-415e-8cd4-54976d54c6d2"
      },
      "outputs": [
        {
          "output_type": "stream",
          "name": "stdout",
          "text": [
            "Postorder travelsal of binary tree is\n",
            "4 5 2 3 1 "
          ]
        }
      ],
      "source": [
        "# Postorder Binary Tree\n",
        "\n",
        "class Node:\n",
        "  def __init__(self, key):\n",
        "    self.left = None\n",
        "    self.right = None\n",
        "    self.val = key\n",
        "\n",
        "# A function to do Postorder tree traversal\n",
        "def  printPostorder(root):\n",
        "\n",
        "  if root:\n",
        "\n",
        "    # First recur on left child\n",
        "    printPostorder(root.left)\n",
        "\n",
        "    # then recur on right child\n",
        "    printPostorder(root.right)\n",
        "\n",
        "    # Finally print the data of node\n",
        "    print(root.val, end=\" \")\n",
        "\n",
        "# Driver code\n",
        "if __name__ == \"__main__\":\n",
        "  root = Node(1)\n",
        "  root.left = Node(2)\n",
        "  root.right = Node(3)\n",
        "  root.left.left = Node(4)\n",
        "  root.left.right = Node(5)\n",
        "\n",
        "# Function call\n",
        "print (\"Postorder travelsal of binary tree is\")\n",
        "printPostorder(root)"
      ]
    }
  ]
}