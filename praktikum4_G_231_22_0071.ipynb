{
  "nbformat": 4,
  "nbformat_minor": 0,
  "metadata": {
    "colab": {
      "provenance": [],
      "authorship_tag": "ABX9TyN7kOLs5nM1fZ0mnLMUxFFc",
      "include_colab_link": true
    },
    "kernelspec": {
      "name": "python3",
      "display_name": "Python 3"
    },
    "language_info": {
      "name": "python"
    }
  },
  "cells": [
    {
      "cell_type": "markdown",
      "metadata": {
        "id": "view-in-github",
        "colab_type": "text"
      },
      "source": [
        "<a href=\"https://colab.research.google.com/github/alvredo5/struktur_data/blob/main/praktikum4_G_231_22_0071.ipynb\" target=\"_parent\"><img src=\"https://colab.research.google.com/assets/colab-badge.svg\" alt=\"Open In Colab\"/></a>"
      ]
    },
    {
      "cell_type": "code",
      "execution_count": null,
      "metadata": {
        "colab": {
          "base_uri": "https://localhost:8080/"
        },
        "id": "HG7e33iLSVM1",
        "outputId": "2a75db42-ca7f-4daa-c7f7-3f77492aa6ca"
      },
      "outputs": [
        {
          "output_type": "stream",
          "name": "stdout",
          "text": [
            "\"The quick brown fox jumps over the little lazy dog\"\n",
            "\n",
            "is a pangram\n"
          ]
        }
      ],
      "source": [
        "# A Python Program to check if the given\n",
        "# string is a pangram or not\n",
        "\n",
        "def checkPangram(s):\n",
        "  List = []\n",
        "  # create list of 26 characters and set false each entry\n",
        "  for i in range(26):\n",
        "    List.append(False)\n",
        "\n",
        "  # converting the sentence to lowercase and iterating\n",
        "  # over the sentence\n",
        "  for c in s.lower():\n",
        "    if not c == \" \":\n",
        "\n",
        "      # make the corresponding entry True\n",
        "      List[ord(c) - ord('a')] = True\n",
        "\n",
        "  # check if any character is missing then return False\n",
        "  for ch in List:\n",
        "    if ch == False:\n",
        "      return False\n",
        "  return True\n",
        "\n",
        "# Driver Program to test ebove functions\n",
        "sentence = \"The quick brown fox jumps over the little lazy dog\"\n",
        "if (checkPangram(sentence)):\n",
        "  print('\"'+sentence+'\"')\n",
        "  print(\"\\nis a pangram\")\n",
        "else:\n",
        "  print('\"'+sentence+'\"')\n",
        "  print(\"\\nis not a pangram\")"
      ]
    },
    {
      "cell_type": "code",
      "source": [
        "def pangram(sentence):\n",
        "    sentence = sentence.lower().replace(\" \", \"\") # Mengubah kalimat menjadi huruf kecil/lower dan menghilangkan spasi\n",
        "    alphabet_set = set() # Membuat set untuk menyimpan semua huruf yang muncul\n",
        "\n",
        "    for char in sentence: # Melakukan iterasi pada setiap karakter dalam kalimat\n",
        "        if char.isalpha():\n",
        "            alphabet_set.add(char)\n",
        "\n",
        "    return len(alphabet_set) == 26 # Mengecek apakah set alphabet_set berisi semua huruf abjad\n",
        "\n",
        "input_sentence = \"Taufikul Hakim\" # Masukkan kalimat\n",
        "if pangram(input_sentence):\n",
        "    print('\"'+input_sentence+'\"')\n",
        "    print(\"\\nIni adalah sebuah pangram.\")\n",
        "else:\n",
        "    print('\"'+input_sentence+'\"')\n",
        "    print(\"\\nIni bukan sebuah pangram.\")\n"
      ],
      "metadata": {
        "colab": {
          "base_uri": "https://localhost:8080/"
        },
        "id": "Ishi6-sYaqj8",
        "outputId": "2f931ccb-cac1-4531-d17a-ac228e294837"
      },
      "execution_count": 3,
      "outputs": [
        {
          "output_type": "stream",
          "name": "stdout",
          "text": [
            "\"Taufikul Hakim\"\n",
            "\n",
            "Ini bukan sebuah pangram.\n"
          ]
        }
      ]
    },
    {
      "cell_type": "code",
      "source": [
        "def pangram(sentence):\n",
        "  sentence = sentence.lower().replace(\" \", \"\")\n",
        "  alphabet_set = set()\n",
        "\n",
        "  for char in sentence:\n",
        "    if char.isalpha():\n",
        "      alphabet_set.add(char)\n",
        "\n",
        "  return len(alphabet_set) == 26\n",
        "\n",
        "input_sentence = \"Muharjo seorang xenofobia universal yang takut pada warga jazirah, contohnya Qatar.\"\n",
        "if pangram(input_sentence):\n",
        "  print('\"'+input_sentence+'\"')\n",
        "  print(\"\\nIni adalah sebuah pangram.\")\n",
        "else:\n",
        "  print('\"'+input_sentence+'\"')\n",
        "  print(\"Ini bukan sebuah pangram\")"
      ],
      "metadata": {
        "colab": {
          "base_uri": "https://localhost:8080/"
        },
        "id": "77KsHpV9liz0",
        "outputId": "2c72f1ce-c3c1-464f-e1ef-fd5693e65185"
      },
      "execution_count": 4,
      "outputs": [
        {
          "output_type": "stream",
          "name": "stdout",
          "text": [
            "\"Muharjo seorang xenofobia universal yang takut pada warga jazirah, contohnya Qatar.\"\n",
            "\n",
            "Ini adalah sebuah pangram.\n"
          ]
        }
      ]
    }
  ]
}