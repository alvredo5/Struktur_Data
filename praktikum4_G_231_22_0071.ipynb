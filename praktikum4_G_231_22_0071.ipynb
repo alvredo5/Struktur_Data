{
  "nbformat": 4,
  "nbformat_minor": 0,
  "metadata": {
    "colab": {
      "provenance": [],
      "authorship_tag": "ABX9TyOoGXPqpbh6egjeOlM4rwl7",
      "include_colab_link": true
    },
    "kernelspec": {
      "name": "python3",
      "display_name": "Python 3"
    },
    "language_info": {
      "name": "python"
    }
  },
  "cells": [
    {
      "cell_type": "markdown",
      "metadata": {
        "id": "view-in-github",
        "colab_type": "text"
      },
      "source": [
        "<a href=\"https://colab.research.google.com/github/alvredo5/struktur_data/blob/main/praktikum4_G_231_22_0071.ipynb\" target=\"_parent\"><img src=\"https://colab.research.google.com/assets/colab-badge.svg\" alt=\"Open In Colab\"/></a>"
      ]
    },
    {
      "cell_type": "code",
      "execution_count": 5,
      "metadata": {
        "colab": {
          "base_uri": "https://localhost:8080/"
        },
        "id": "HG7e33iLSVM1",
        "outputId": "2a75db42-ca7f-4daa-c7f7-3f77492aa6ca"
      },
      "outputs": [
        {
          "output_type": "stream",
          "name": "stdout",
          "text": [
            "\"The quick brown fox jumps over the little lazy dog\"\n",
            "\n",
            "is a pangram\n"
          ]
        }
      ],
      "source": [
        "# A Python Program to check if the given\n",
        "# string is a pangram or not\n",
        "\n",
        "def checkPangram(s):\n",
        "  List = []\n",
        "  # create list of 26 characters and set false each entry\n",
        "  for i in range(26):\n",
        "    List.append(False)\n",
        "\n",
        "  # converting the sentence to lowercase and iterating\n",
        "  # over the sentence\n",
        "  for c in s.lower():\n",
        "    if not c == \" \":\n",
        "\n",
        "      # make the corresponding entry True\n",
        "      List[ord(c) - ord('a')] = True\n",
        "\n",
        "  # check if any character is missing then return False\n",
        "  for ch in List:\n",
        "    if ch == False:\n",
        "      return False\n",
        "  return True\n",
        "\n",
        "# Driver Program to test ebove functions\n",
        "sentence = \"The quick brown fox jumps over the little lazy dog\"\n",
        "if (checkPangram(sentence)):\n",
        "  print('\"'+sentence+'\"')\n",
        "  print(\"\\nis a pangram\")\n",
        "else:\n",
        "  print('\"'+sentence+'\"')\n",
        "  print(\"\\nis not a pangram\")"
      ]
    },
    {
      "cell_type": "code",
      "source": [
        "def checkPangram(s):\n",
        " List = []\n",
        "# create list of 26 characters and set false each entry\n",
        " for i in range(26):\n",
        "  List.append(False)\n",
        " # converting the sentence to lowercase and iterating\n",
        " # over the sentence\n",
        " for c in s.lower():\n",
        "  if not c == \" \":\n",
        " # make the corresponding entry True\n",
        "    List[ord(c) - ord('a')] = True\n",
        " # check if any character is missing then return False\n",
        " for ch in List:\n",
        "  if ch == False:\n",
        "    return False\n",
        " return True\n",
        "# Driver Program to test above functions\n",
        "sentence = \"The quick brown fox jumps over the little lazy dog\"\n",
        "if (checkPangram(sentence)):\n",
        " print('\"'+sentence+'\"')\n",
        " print(\"\\nis a pangram\")\n",
        "else:\n",
        " print('\"'+sentence+'\"')\n",
        " print(\"\\nis not a pangram\")"
      ],
      "metadata": {
        "colab": {
          "base_uri": "https://localhost:8080/"
        },
        "id": "UOZwwmEfY_o0",
        "outputId": "f0e3eb41-eb82-4680-abf7-53e04daef9fa"
      },
      "execution_count": 2,
      "outputs": [
        {
          "output_type": "stream",
          "name": "stdout",
          "text": [
            "\"The quick brown fox jumps over the little lazy dog\"\n",
            "\n",
            "is a pangram\n"
          ]
        }
      ]
    },
    {
      "cell_type": "code",
      "source": [
        "def is_pangram(sentence):\n",
        "    # Mengubah kalimat menjadi huruf kecil dan menghilangkan spasi\n",
        "    sentence = sentence.lower().replace(\" \", \"\")\n",
        "\n",
        "    # Membuat set untuk menyimpan semua huruf yang muncul\n",
        "    alphabet_set = set()\n",
        "\n",
        "    # Melakukan iterasi pada setiap karakter dalam kalimat\n",
        "    for char in sentence:\n",
        "        if char.isalpha():\n",
        "            alphabet_set.add(char)\n",
        "\n",
        "    # Mengecek apakah set alphabet_set berisi semua huruf abjad\n",
        "    return len(alphabet_set) == 26\n",
        "\n",
        "# Contoh penggunaan\n",
        "input_sentence = \"Taufikul Hakim\"\n",
        "if is_pangram(input_sentence):\n",
        "    print(\"Ini adalah sebuah pangram.\")\n",
        "else:\n",
        "    print(\"Ini bukan sebuah pangram.\")\n"
      ],
      "metadata": {
        "colab": {
          "base_uri": "https://localhost:8080/"
        },
        "id": "Ishi6-sYaqj8",
        "outputId": "bbc7cfc2-16a1-40c7-e7c9-4c1673750248"
      },
      "execution_count": 7,
      "outputs": [
        {
          "output_type": "stream",
          "name": "stdout",
          "text": [
            "Ini bukan sebuah pangram.\n"
          ]
        }
      ]
    }
  ]
}