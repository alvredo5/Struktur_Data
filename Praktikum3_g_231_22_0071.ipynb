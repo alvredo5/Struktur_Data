{
  "nbformat": 4,
  "nbformat_minor": 0,
  "metadata": {
    "colab": {
      "provenance": [],
      "authorship_tag": "ABX9TyPSrpNnW7UrmRUDc7r2Y6FC",
      "include_colab_link": true
    },
    "kernelspec": {
      "name": "python3",
      "display_name": "Python 3"
    },
    "language_info": {
      "name": "python"
    }
  },
  "cells": [
    {
      "cell_type": "markdown",
      "metadata": {
        "id": "view-in-github",
        "colab_type": "text"
      },
      "source": [
        "<a href=\"https://colab.research.google.com/github/alvredo5/struktur_data/blob/main/Praktikum3_g_231_22_0071.ipynb\" target=\"_parent\"><img src=\"https://colab.research.google.com/assets/colab-badge.svg\" alt=\"Open In Colab\"/></a>"
      ]
    },
    {
      "cell_type": "code",
      "execution_count": 2,
      "metadata": {
        "colab": {
          "base_uri": "https://localhost:8080/"
        },
        "id": "VGMKyMFiLq2S",
        "outputId": "8bb998a7-e4fb-4c21-c864-8796d0ad9f94"
      },
      "outputs": [
        {
          "output_type": "stream",
          "name": "stdout",
          "text": [
            "geksforgeeks\n"
          ]
        }
      ],
      "source": [
        "def convert(s) :\n",
        "  new = \"\"\n",
        "  for x in s:\n",
        "    new += x\n",
        "\n",
        "  return new\n",
        "\n",
        "#driver code\n",
        "s = ['g', 'e', 'k', 's', 'f', 'o', 'r', 'g', 'e', 'e', 'k', 's']\n",
        "print(convert(s))"
      ]
    },
    {
      "cell_type": "code",
      "source": [
        "def convert(t):\n",
        "  baru = \"\"\n",
        "  for z in t:\n",
        "    baru += z\n",
        "\n",
        "  return baru\n",
        "\n",
        "#driver code\n",
        "t = ['T','a','u','f','i','k','u','l', ' ','H','a','k','i','m']\n",
        "print(convert(t))"
      ],
      "metadata": {
        "colab": {
          "base_uri": "https://localhost:8080/"
        },
        "id": "NA1BEM9tNejZ",
        "outputId": "e3a6f6e3-d2b0-4466-fb70-70112d0fc87d"
      },
      "execution_count": 6,
      "outputs": [
        {
          "output_type": "stream",
          "name": "stdout",
          "text": [
            "Taufikul Hakim\n"
          ]
        }
      ]
    }
  ]
}