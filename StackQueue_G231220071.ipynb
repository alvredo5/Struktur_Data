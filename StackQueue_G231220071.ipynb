{
  "nbformat": 4,
  "nbformat_minor": 0,
  "metadata": {
    "colab": {
      "provenance": [],
      "authorship_tag": "ABX9TyMlQq+amSIzOuNiSN5QGF9C",
      "include_colab_link": true
    },
    "kernelspec": {
      "name": "python3",
      "display_name": "Python 3"
    },
    "language_info": {
      "name": "python"
    }
  },
  "cells": [
    {
      "cell_type": "markdown",
      "metadata": {
        "id": "view-in-github",
        "colab_type": "text"
      },
      "source": [
        "<a href=\"https://colab.research.google.com/github/alvredo5/struktur_data/blob/main/StackQueue_G231220071.ipynb\" target=\"_parent\"><img src=\"https://colab.research.google.com/assets/colab-badge.svg\" alt=\"Open In Colab\"/></a>"
      ]
    },
    {
      "cell_type": "code",
      "source": [
        "# Fungsi untuk mengurutkan tumpukan secara menurun (dari besar ke kecil)\n",
        "def sortStack(input):\n",
        "    # Inisialisasi tumpukan sementara\n",
        "    tmpStack = []\n",
        "\n",
        "    # Selama tumpukan input belum kosong\n",
        "    while len(input) > 0:\n",
        "        # Ambil elemen pertama dari tumpukan input\n",
        "        tmp = input[-1]\n",
        "        input.pop()\n",
        "\n",
        "        # Selama tumpukan sementara tidak kosong dan elemen teratas\n",
        "        # dari tumpukan lebih kecil dari elemen yang diambil (tmp)\n",
        "        while len(tmpStack) > 0 and tmpStack[-1] < tmp:\n",
        "            # Ambil elemen dari tumpukan sementara dan masukkan ke tumpukan input\n",
        "            input.append(tmpStack[-1])\n",
        "            tmpStack.pop()\n",
        "\n",
        "        # Masukkan elemen yang diambil ke tumpukan sementara\n",
        "        tmpStack.append(tmp)\n",
        "\n",
        "    # Kembalikan tumpukan yang sudah diurutkan\n",
        "    return tmpStack\n",
        "\n",
        "\n",
        "# Fungsi untuk mengurutkan array menggunakan tumpukan\n",
        "def sortArrayUsingStacks(arr, n):\n",
        "    # Inisialisasi tumpukan dari elemen-elemen array\n",
        "    input = []\n",
        "    i = 0\n",
        "    while (i < n):\n",
        "        input.append(arr[i])\n",
        "        i = i + 1\n",
        "\n",
        "    # Urutkan tumpukan dari elemen-elemen array\n",
        "    tmpStack = sortStack(input)\n",
        "\n",
        "    i = 0\n",
        "    # Ambil elemen dari tumpukan yang sudah diurutkan\n",
        "    while i < n:\n",
        "        arr[i] = tmpStack.pop()\n",
        "        i = i + 1\n",
        "\n",
        "    # Kembalikan array yang sudah diurutkan\n",
        "    return arr\n",
        "\n",
        "# Inisialisasi array yang akan diurutkan\n",
        "arr = [10, 5, 15, 45]\n",
        "n = len(arr)\n",
        "\n",
        "# Panggil fungsi untuk mengurutkan array menggunakan tumpukan\n",
        "arr = sortArrayUsingStacks(arr, n)\n",
        "\n",
        "# Tampilkan array yang sudah diurutkan\n",
        "i = 0\n",
        "while i < n:\n",
        "    print(arr[i], end=\" \")\n",
        "    i = i + 1\n"
      ],
      "metadata": {
        "id": "_srRWycd_Bcd",
        "colab": {
          "base_uri": "https://localhost:8080/"
        },
        "outputId": "8391e983-460d-4eea-d51b-5a1147e5c7ec"
      },
      "execution_count": 1,
      "outputs": [
        {
          "output_type": "stream",
          "name": "stdout",
          "text": [
            "5 10 15 45 "
          ]
        }
      ]
    }
  ]
}