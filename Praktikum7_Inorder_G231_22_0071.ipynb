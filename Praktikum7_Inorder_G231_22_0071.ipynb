{
  "nbformat": 4,
  "nbformat_minor": 0,
  "metadata": {
    "colab": {
      "provenance": [],
      "authorship_tag": "ABX9TyMdal1rdSloNOge4HiQxbiM",
      "include_colab_link": true
    },
    "kernelspec": {
      "name": "python3",
      "display_name": "Python 3"
    },
    "language_info": {
      "name": "python"
    }
  },
  "cells": [
    {
      "cell_type": "markdown",
      "metadata": {
        "id": "view-in-github",
        "colab_type": "text"
      },
      "source": [
        "<a href=\"https://colab.research.google.com/github/alvredo5/struktur_data/blob/main/Praktikum7_Inorder_G231_22_0071.ipynb\" target=\"_parent\"><img src=\"https://colab.research.google.com/assets/colab-badge.svg\" alt=\"Open In Colab\"/></a>"
      ]
    },
    {
      "cell_type": "code",
      "execution_count": null,
      "metadata": {
        "id": "Ki7GuJjM180H"
      },
      "outputs": [],
      "source": [
        "# python 3 progam to for tree traversal\n",
        "# Inorder\n",
        "\n",
        "class Node:\n",
        "  def __init_(self, key):\n",
        "    self.left = None\n",
        "    self.right = None\n",
        "    self.val = key\n",
        "\n",
        "# A function to do inorder tree traversal\n",
        "def printInorder(root):\n",
        "\n",
        "  if root:\n",
        "\n",
        "    # Frist recur on left child\n",
        "    printInorder(root.left)\n",
        "\n",
        "    # then print the data of node\n",
        "    print(root.val)\n",
        "\n",
        "    # now recur on right child\n",
        "    printInorder(root.right)\n",
        "\n",
        "# Driver code\n",
        "if __name__ == \"__main__\":\n",
        "  root = Node(1)\n",
        "  root.left = Node(2)\n",
        "  root.right = Node(3)\n",
        "  root.left.left = Node(4)\n",
        "  root.left.right = Node(5)\n",
        "\n",
        "  # function Call\n",
        "  print(\"\\nInorder travelsal of binary tree is\")\n",
        "  printInorder(root)"
      ]
    },
    {
      "cell_type": "code",
      "source": [
        "# Program Python 3 untuk penelusuran pohon\n",
        "# Inorder\n",
        "\n",
        "class Node:\n",
        "  def __init__(self, key):\n",
        "    self.left = None\n",
        "    self.right = None\n",
        "    self.val = key\n",
        "\n",
        "# Fungsi untuk melakukan penelusuran inorder pada pohon\n",
        "def printInorder(root):\n",
        "  if root:\n",
        "    # Rekursi terlebih dahulu pada anak kiri\n",
        "    printInorder(root.left)\n",
        "\n",
        "    # kemudian rekursi pada anak kanan\n",
        "    printInorder(root.right)\n",
        "\n",
        "    # sekarang mencetak data dari node\n",
        "    print(root.val, end=\" \")\n",
        "\n",
        "\n",
        "\n",
        "# Kode Driver\n",
        "if __name__ == \"__main__\":\n",
        "  root = Node(1)\n",
        "  root.left = Node(2)\n",
        "  root.right = Node(3)\n",
        "  root.left.left = Node(4)\n",
        "  root.left.right = Node(5)\n",
        "\n",
        "  # Pemanggilan fungsi\n",
        "  print(\"Penelusuran inorder dari binary tree:\")\n",
        "  printInorder(root)\n"
      ],
      "metadata": {
        "colab": {
          "base_uri": "https://localhost:8080/"
        },
        "id": "oB_ZJBZgdafm",
        "outputId": "a9385ece-a2b3-4b19-fda7-d08f0c4d2457"
      },
      "execution_count": null,
      "outputs": [
        {
          "output_type": "stream",
          "name": "stdout",
          "text": [
            "Penelusuran inorder dari binary tree:\n",
            "4 5 2 3 1 "
          ]
        }
      ]
    }
  ]
}